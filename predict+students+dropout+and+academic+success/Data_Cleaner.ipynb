{
 "cells": [
  {
   "cell_type": "markdown",
   "id": "781ccbbf-947e-4703-9a2a-4e0b26133bf4",
   "metadata": {},
   "source": [
    "##### dataset reference: [UC Irvine Machine Learning Repository](https://archive.ics.uci.edu/dataset/697/predict+students+dropout+and+academic+success)\n",
    "# Functions: `load_data()`, `column_parser()`, `row_parser()`\n",
    "---\n",
    ">## *load_data()*\n",
    ">### Opens the csv file and creates a new list for us to work with called `raw`\n",
    ">>#### Methods: `.append()`\n",
    "\n",
    ">## *column_parser()*\n",
    ">### The first element of the new list, `raw[0]`, contains the features (or columns) of the dataset.\n",
    ">### We create a list called `columns` using looping logic.\n",
    ">>#### Methods: `.append()`\n",
    "\n",
    ">## *row_parser()*\n",
    ">### The subsequent elements of the list, `e.g., raw[1]`, contains all the rows in the csv file.\n",
    ">### We create a list called `case_list` using looping logic. Each row in this raw dataset is put into a single string-each value seperated by the `;` delimiter.\n",
    ">>#### Methods: `.append()`, `.isdigit()`, `.isalpha()`\n",
    "### Lastly, we create a new csv file with a different name to preserve data history"
   ]
  },
  {
   "cell_type": "code",
   "execution_count": 66,
   "id": "1939a53b-7f1f-47e9-9ff4-c13265fd187c",
   "metadata": {},
   "outputs": [],
   "source": [
    "def load_data():\n",
    "    raw = []\n",
    "    with open('data.csv', 'r', newline='') as f:\n",
    "        for row in f:\n",
    "            line = row.strip()\n",
    "            raw.append(line)\n",
    "    return raw\n",
    "\n",
    "def column_parser(raw):\n",
    "    # Filter text to create columns\n",
    "    statement_list = []\n",
    "    statement = ''\n",
    "    for letter in raw[0]:  \n",
    "        if letter != \";\":\n",
    "            statement = statement + letter\n",
    "        else:\n",
    "            statement_list.append(statement)\n",
    "            statement = ''\n",
    "    \n",
    "        # Hard coded, sorry! This adds the last column in the index\n",
    "        if len(statement_list) == 36:\n",
    "            statement_list.append(raw[0][-6:])\n",
    "    columns = statement_list\n",
    "    #print(\"Length of columns: \", len(columns))\n",
    "    return columns\n",
    "\n",
    "def row_parser(raw, columns):\n",
    "    # Cleans up the delimiter in the string and appends to a new list.\n",
    "    row_list = []\n",
    "    for x in raw[1:]:\n",
    "        case_list = []\n",
    "        placeholder = ''\n",
    "        # example output of raw[1]: '1;17;5;171;1;1;122.0;1;19;12;5;9;127.3;1;0;0;1;1;0;20;0;0;0;0;0;0.0;0;0;0;0;0;0.0;0;10.8;1.4;1.74;Dropout'\n",
    "        for value_case in x:\n",
    "            if value_case.isdigit() or value_case.isalpha() or value_case == '.':\n",
    "                placeholder += value_case\n",
    "            elif value_case == \";\":\n",
    "                case_list.append(placeholder)\n",
    "                placeholder = ''\n",
    "                \n",
    "        # Since there is no placeholder after the last value, the 'placeholder' buffer will still be full of values\n",
    "        if placeholder:\n",
    "            case_list.append(placeholder)\n",
    "                \n",
    "        row_list.append(case_list)\n",
    "        \n",
    "    return row_list"
   ]
  },
  {
   "cell_type": "code",
   "execution_count": 70,
   "id": "e5b1f719-c36c-4b6e-82df-158dffaf7bed",
   "metadata": {},
   "outputs": [],
   "source": [
    "import csv\n",
    "raw = load_data()\n",
    "cols = column_parser(raw)\n",
    "rows = row_parser(raw, cols)\n",
    "# To create a new csv file\n",
    "with open('better_data.csv', 'w', newline='') as f:\n",
    "    csv_writer = csv.writer(f)\n",
    "    csv_writer.writerow(cols)\n",
    "    csv_writer.writerows(rows)"
   ]
  }
 ],
 "metadata": {
  "kernelspec": {
   "display_name": "Python 3 (ipykernel)",
   "language": "python",
   "name": "python3"
  },
  "language_info": {
   "codemirror_mode": {
    "name": "ipython",
    "version": 3
   },
   "file_extension": ".py",
   "mimetype": "text/x-python",
   "name": "python",
   "nbconvert_exporter": "python",
   "pygments_lexer": "ipython3",
   "version": "3.10.12"
  }
 },
 "nbformat": 4,
 "nbformat_minor": 5
}
